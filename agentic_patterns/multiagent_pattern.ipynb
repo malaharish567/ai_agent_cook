{
 "cells": [
  {
   "cell_type": "code",
   "execution_count": 27,
   "metadata": {},
   "outputs": [],
   "source": [
    "from agentic_patterns.multiagent_pattern.agent import Agent\n",
    "\n",
    "agent_example = Agent(\n",
    "    name = \"Poet Agent\",\n",
    "    backstory=\"You are a well-known poet, who enjoys creating high quality poetry.\",\n",
    "    task_description=\"Write a poem about the meaning of life\",\n",
    "    task_expected_output=\"Just output the poem, without any title or introductory sentences\",\n",
    "    llm=\"llama3-70b-8192\"\n",
    ")"
   ]
  },
  {
   "cell_type": "code",
   "execution_count": 28,
   "metadata": {},
   "outputs": [
    {
     "name": "stdout",
     "output_type": "stream",
     "text": [
      "In whispers of the universe's gentle breeze,\n",
      "A question echoes, a mystery to seize,\n",
      "The meaning of life, a tale to unfold,\n",
      "A journey to the heart, where love does hold.\n",
      "\n",
      "'Tis not in mortal coils, nor fleeting fame,\n",
      "But in the depths of soul, where love does flame,\n",
      "A spark that ignites, a fire that grows,\n",
      "Guiding us through the darkness, as it glows.\n",
      "\n",
      "In moments of stillness, when heartbeats align,\n",
      "We glimpse the truth, a glimpse divine,\n",
      "A sense of purpose, a raison d'être true,\n",
      "A harmony of soul, where love shines through.\n",
      "\n",
      "Through trials and tribulations, we find our way,\n",
      "Through every tear, a lesson to convey,\n",
      "The meaning of life, a tapestry so grand,\n",
      "Woven from threads of love, in this mortal land.\n",
      "\n",
      "In embracing life's complexities, we find our peace,\n",
      "In loving and being loved, our hearts release,\n",
      "The meaning of life, a symphony so sweet,\n",
      "A dance of love, where every heartbeat meets.\n"
     ]
    }
   ],
   "source": [
    "print(agent_example.run())"
   ]
  },
  {
   "cell_type": "code",
   "execution_count": 44,
   "metadata": {},
   "outputs": [],
   "source": [
    "from agentic_patterns.tool_pattern.tool import tool\n",
    "\n",
    "@tool\n",
    "def write_str_to_txt(string_data:str,txt_filename:str):\n",
    "    \"\"\"\n",
    "     Writes a string to a txt file.\n",
    "\n",
    "    This function takes a string and writes it to a text file. If the file already exists, \n",
    "    it will be overwritten with the new data.\n",
    "\n",
    "    Args:\n",
    "        string_data (str): The string containing the data to be written to the file.\n",
    "        txt_filename (str): The name of the text file to which the data should be written.\n",
    "    \"\"\"\n",
    "    with open(txt_filename,mode='w',encoding='utf-8') as file:\n",
    "        file.write(string_data)\n",
    "    print(f\"Data successfully written to {txt_filename}\")    "
   ]
  },
  {
   "cell_type": "code",
   "execution_count": 47,
   "metadata": {},
   "outputs": [],
   "source": [
    "agent_tool_example = Agent(\n",
    "    #name = \"Write Agent\",\n",
    "    backstory=\"You are a language model specialised in writing text into .txt files\",\n",
    "    task_description=\"Write the string 'This is a Tool Agent' into './tool_agent_example.txt'\",\n",
    "    task_expected_output=\"A .txt file containing the given string\",\n",
    "    tools = write_str_to_txt,\n",
    "    name=\"Writer Agent\",\n",
    "    llm=\"llama3-70b-8192\"\n",
    ")"
   ]
  },
  {
   "cell_type": "code",
   "execution_count": 48,
   "metadata": {},
   "outputs": [
    {
     "name": "stdout",
     "output_type": "stream",
     "text": [
      "\u001b[35m\n",
      "Thought: Write the string 'This is a Tool Agent' into './tool_agent_example.txt'\n",
      "\u001b[32m\n",
      "Using Tool: write_str_to_txt\n",
      "\u001b[32m\n",
      "Tool call dict: \n",
      "{'name': 'write_str_to_txt', 'arguments': {'string_data': 'This is a Tool Agent', 'txt_filename': './tool_agent_example.txt'}, 'id': 0}\n",
      "Data successfully written to ./tool_agent_example.txt\n",
      "\u001b[32m\n",
      "Tool result: \n",
      "None\n",
      "\u001b[34m\n",
      "Observations: {0: None}\n"
     ]
    },
    {
     "data": {
      "text/plain": [
       "\"The string 'This is a Tool Agent' has been written into './tool_agent_example.txt'\""
      ]
     },
     "execution_count": 48,
     "metadata": {},
     "output_type": "execute_result"
    }
   ],
   "source": [
    "agent_tool_example.run()"
   ]
  },
  {
   "cell_type": "code",
   "execution_count": 53,
   "metadata": {},
   "outputs": [],
   "source": [
    "agent_1 = Agent(\n",
    "    name=\"Poet Agent\",\n",
    "    backstory=\"You are a well-known poet, who enjoys creating high quality poetry.\",\n",
    "    task_description=\"Write a poem about the meaning of life\",\n",
    "    task_expected_output=\"Just output the poem, without any title or introductory sentences\",\n",
    "    llm=\"llama3-70b-8192\"\n",
    ")\n",
    "\n",
    "agent_2 = Agent(\n",
    "    name=\"Poem Translator Agent\",\n",
    "    backstory=\"You are an expert translator especially skilled in Ancient Greek\",\n",
    "    task_description=\"Translate a poem into Ancient Greek\", \n",
    "    task_expected_output=\"Just output the translated poem and nothing else\",\n",
    "    llm=\"llama3-70b-8192\"\n",
    ")"
   ]
  },
  {
   "cell_type": "code",
   "execution_count": 54,
   "metadata": {},
   "outputs": [
    {
     "data": {
      "text/plain": [
       "Poem Translator Agent"
      ]
     },
     "execution_count": 54,
     "metadata": {},
     "output_type": "execute_result"
    }
   ],
   "source": [
    "agent_1 >> agent_2"
   ]
  },
  {
   "cell_type": "code",
   "execution_count": 55,
   "metadata": {},
   "outputs": [
    {
     "name": "stdout",
     "output_type": "stream",
     "text": [
      "Agent 1 dependencies:  []\n",
      "Agent 1 dependents:  [Poem Translator Agent]\n",
      "Agent 2 dependencies:  [Poet Agent]\n",
      "Agent 2 dependents:  []\n"
     ]
    }
   ],
   "source": [
    "print(\"Agent 1 dependencies: \", agent_1.dependencies)\n",
    "print(\"Agent 1 dependents: \", agent_1.dependents)\n",
    "print(\"Agent 2 dependencies: \", agent_2.dependencies)\n",
    "print(\"Agent 2 dependents: \", agent_2.dependents)"
   ]
  },
  {
   "cell_type": "code",
   "execution_count": 56,
   "metadata": {},
   "outputs": [
    {
     "name": "stdout",
     "output_type": "stream",
     "text": [
      "In whispers of the wind, I hear a call\n",
      "A question echoing, through it all\n",
      "A search for purpose, a reason to be\n",
      "A meaning to life, a destiny\n",
      "\n",
      "Through trials and tribulations, we roam\n",
      "Seeking answers, to life's unknown\n",
      "In fleeting moments, of joy and of pain\n",
      "We glimpse the truth, but it remains in vain\n",
      "\n",
      "Perhaps it's love, that gives life its zest\n",
      "A bond between hearts, that finds its nest\n",
      "In kindness and compassion, we find our way\n",
      "Through the darkness, to a brighter day\n",
      "\n",
      "Or maybe it's wisdom, that we seek to gain\n",
      "A understanding, of life's grand design\n",
      "Through the ages, philosophers have strayed\n",
      "In search of truth, but it slipped away\n",
      "\n",
      "Yet, in the silence, I hear a voice\n",
      "A whisper that says, \"Make your own choice\"\n",
      "Create your own meaning, in every single day\n",
      "And in the beauty, of life's fleeting way\n",
      "\n",
      "For in the end, it's not what we find\n",
      "But how we lived, with heart and mind\n",
      "That gives life meaning, in all its strife\n",
      "A dance with destiny, a precious life.\n"
     ]
    }
   ],
   "source": [
    "print(agent_1.run())"
   ]
  },
  {
   "cell_type": "code",
   "execution_count": 57,
   "metadata": {},
   "outputs": [
    {
     "name": "stdout",
     "output_type": "stream",
     "text": [
      "Poem Translator Agent received context: \n",
      "In whispers of the wind, I hear a call\n",
      "A question echoing, through it all\n",
      "A search for purpose, a reason to be\n",
      "A meaning to life, a destiny\n",
      "\n",
      "Through trials and tribulations, we roam\n",
      "Seeking answers, to life's unknown\n",
      "In fleeting moments, of joy and of pain\n",
      "We glimpse the truth, but it remains in vain\n",
      "\n",
      "Perhaps it's love, that gives life its zest\n",
      "A bond between hearts, that finds its nest\n",
      "In kindness and compassion, we find our way\n",
      "Through the darkness, to a brighter day\n",
      "\n",
      "Or maybe it's wisdom, that we seek to gain\n",
      "A understanding, of life's grand design\n",
      "Through the ages, philosophers have strayed\n",
      "In search of truth, but it slipped away\n",
      "\n",
      "Yet, in the silence, I hear a voice\n",
      "A whisper that says, \"Make your own choice\"\n",
      "Create your own meaning, in every single day\n",
      "And in the beauty, of life's fleeting way\n",
      "\n",
      "For in the end, it's not what we find\n",
      "But how we lived, with heart and mind\n",
      "That gives life meaning, in all its strife\n",
      "A dance with destiny, a precious life.\n"
     ]
    }
   ],
   "source": [
    "print(agent_2.context)"
   ]
  },
  {
   "cell_type": "code",
   "execution_count": 58,
   "metadata": {},
   "outputs": [
    {
     "name": "stdout",
     "output_type": "stream",
     "text": [
      "Ἐν ψιθύροις ἀνέμου, ἀκούω φωνήν\n",
      "Ἐρωτήματα ἐχόμενα, δι' ὅλου τοῦ παντός\n",
      "Ἀναζήτησιν σκοπὸν, λόγον εἶναι\n",
      "Λόγον βίον, προαίρεσιν\n",
      "\n",
      "Διὰ πειρασμῶν καὶ δικαستیῶν, πλανώμεθα\n",
      "Ζητοῦντες ἀποκρίσεις, τοῦ ἀγνώστου βίου\n",
      "Ἐν ὀλίγοις χروνοῖς, χαρás τε καὶ πónou\n",
      "Γνωρίζομεν τὴν ἀλήθειαν, ἀλλ' ἀπολείπει ἡμᾶς\n",
      "\n",
      "Ἰσως ἔρως ἐστιν, ὃ ζωὴν ἔχει χρίσμα\n",
      "Δεσμὸς καρδίαν, ὃ εὑρίσκει καταسكην\n",
      "Ἐν εὐμενίαις καὶ ἔλεει, εὑρίσομεν τὸν τρόπον\n",
      "Διὰ τοῦ σκότους, εἰς ἐλάφριον ἡμέραν\n",
      "\n",
      "Ἰσως σοφία ἐστιν, ἣν ζητοῦμεν κτᾶσθαι\n",
      "Σύνεσιν βίου, τοῦ μεγάλου σχεδίου\n",
      "Διὰ τῶν αἰώνων, φιλόσοφοι διεψεύσαντο\n",
      "Ζητοῦντες ἀλήθειαν, ἀλλ' ἀπέδυ ἡμᾶς\n",
      "\n",
      "Ἀλλ' ἐν σιγή, ἀκούω φωνήν\n",
      "Φθεγγόμενον ὅτι, \"Πόησον τὸν δίκαιόν σέ\"\n",
      "Δημιουργήσου τὸν λόγον, ἐν καθ' ἡμέραν\n",
      "Καὶ ἐν τῷ κάλλος, τοῦ βίου φθινῶν προσόδου\n",
      "\n",
      "ὅτι ἐν τέλει, οὐχ ὅτι εὑρίσκωμεν\n",
      "Ἀλλ' ὅπως ἔζησεν, ἐν καρδίᾳ καὶ νοῒ\n",
      "Τοῦτο ζωὴν ἐMDB, ἐν πάσῃ τῇ μάχῃ\n",
      "Χορὸς μετὰ μοίρας, ζωὴν πολυτίμην.\n"
     ]
    }
   ],
   "source": [
    "print(agent_2.run())"
   ]
  },
  {
   "cell_type": "markdown",
   "metadata": {},
   "source": [
    "## CREW"
   ]
  },
  {
   "cell_type": "code",
   "execution_count": 59,
   "metadata": {},
   "outputs": [],
   "source": [
    "from agentic_patterns.multiagent_pattern.crew import Crew"
   ]
  },
  {
   "cell_type": "code",
   "execution_count": 63,
   "metadata": {},
   "outputs": [],
   "source": [
    "with Crew() as crew:\n",
    "    agent_1 = Agent(\n",
    "        name=\"Poet Agent\",\n",
    "        backstory=\"You are a well-known poet, who enjoys creating high quality poetry.\",\n",
    "        task_description=\"Write a poem about the meaning of life\",\n",
    "        task_expected_output=\"Just output the poem, without any title or introductory sentences\",\n",
    "        llm=\"llama3-70b-8192\"\n",
    "    )\n",
    "\n",
    "    agent_2 = Agent(\n",
    "        name=\"Poem Translator Agent\",\n",
    "        backstory=\"You are an expert translator especially skilled in Spanish\",\n",
    "        task_description=\"Translate a poem into Spanish\", \n",
    "        task_expected_output=\"Just output the translated poem and nothing else\",\n",
    "        llm=\"llama3-70b-8192\"\n",
    "    )\n",
    "\n",
    "    agent_3 = Agent(\n",
    "        name=\"Writer Agent\",\n",
    "        backstory=\"You are an expert transcriber, that loves writing poems into txt files\",\n",
    "        task_description=\"You'll receive a Spanish poem in your context. You need to write the poem into './poem.txt' file\",\n",
    "        task_expected_output=\"A txt file containing the greek poem received from the context\",\n",
    "        tools=write_str_to_txt,\n",
    "        llm=\"llama3-70b-8192\"\n",
    "    )\n",
    "\n",
    "    agent_1 >> agent_2 >> agent_3"
   ]
  },
  {
   "cell_type": "code",
   "execution_count": 65,
   "metadata": {},
   "outputs": [
    {
     "name": "stdout",
     "output_type": "stream",
     "text": [
      "\u001b[1m\u001b[36m\n",
      "==================================================\n",
      "\u001b[35mRUNNING AGENT: Poet Agent\n",
      "\u001b[1m\u001b[36m==================================================\n",
      "\n",
      "\u001b[31mIn whispers of the wind, I hear a call\n",
      "A question echoing, through it all\n",
      "A search for purpose, a reason to be\n",
      "A meaning to life, a destiny\n",
      "\n",
      "Through trials and tribulations, we find our way\n",
      "Through love and loss, we face each new day\n",
      "We search for answers, in the stars up high\n",
      "We seek the truth, and wonder why\n",
      "\n",
      "In fleeting moments, of joy and of pain\n",
      "We glimpse the beauty, of life's complex refrain\n",
      "A dance of duality, of light and of dark\n",
      "A symphony of emotions, that shape our embark\n",
      "\n",
      "Perhaps the meaning, lies not in the end\n",
      "But in the journey, we take as friends\n",
      "The love we share, the laughter we bring\n",
      "The memories we forge, as our hearts keep singing\n",
      "\n",
      "Perhaps it's in the moments, we pause and reflect\n",
      "We find the meaning, in the beauty we inspect\n",
      "In the stillness, of a summer's breeze\n",
      "We discover the truth, that sets our souls free\n",
      "\n",
      "In the end, it's not about the years we live\n",
      "But about the love, we give, and the love we give\n",
      "For in the giving, we find our own way\n",
      "To the meaning of life, in a brand new day.\n",
      "\u001b[1m\u001b[36m\n",
      "==================================================\n",
      "\u001b[35mRUNNING AGENT: Poem Translator Agent\n",
      "\u001b[1m\u001b[36m==================================================\n",
      "\n",
      "\u001b[31mEn susurros del viento, oigo una llamada\n",
      "Una pregunta que resuena, a través de todo\n",
      "Una búsqueda de propósito, una razón para ser\n",
      "Un significado para la vida, un destino\n",
      "\n",
      "A través de pruebas y tribulaciones, encontramos nuestro camino\n",
      "A través del amor y la pérdida, enfrentamos cada nuevo día\n",
      "Buscamos respuestas, en las estrellas arriba\n",
      "Buscamos la verdad, y nos preguntamos por qué\n",
      "\n",
      "En momentos fugaces, de alegría y de dolor\n",
      "Vislumbramos la belleza, de la compleja melodía de la vida\n",
      "Un baile de dualidad, de luz y de oscuridad\n",
      "Una sinfonía de emociones, que configura nuestro camino\n",
      "\n",
      "Quizás el significado, no está en el final\n",
      "Sino en el viaje, que emprendemos como amigos\n",
      "El amor que compartimos, la risa que traemos\n",
      "Los recuerdos que forjamos, mientras nuestros corazones siguen cantando\n",
      "\n",
      "Quizás está en los momentos, en que nos detenemos y reflexionamos\n",
      "Encontramos el significado, en la belleza que inspeccionamos\n",
      "En la quietud, de una brisa estival\n",
      "Descubrimos la verdad, que nos libera a nuestras almas\n",
      "\n",
      "Al final, no se trata de los años que vivimos\n",
      "Sino del amor que damos, y del amor que damos\n",
      "Porque en el dar, encontramos nuestro propio camino\n",
      "Al significado de la vida, en un día nuevo y brillante.\n",
      "\u001b[1m\u001b[36m\n",
      "==================================================\n",
      "\u001b[35mRUNNING AGENT: Writer Agent\n",
      "\u001b[1m\u001b[36m==================================================\n",
      "\n",
      "\u001b[35m\n",
      "Thought: I need to write the Spanish poem from the context into a txt file\n",
      "\u001b[32m\n",
      "Using Tool: write_str_to_txt\n",
      "\u001b[32m\n",
      "Tool call dict: \n",
      "{'name': 'write_str_to_txt', 'arguments': {'string_data': 'En susurros del viento, oigo una llamada\\nUna pregunta que resuena, a través de todo\\nUna búsqueda de propósito, una razón para ser\\nUn significado para la vida, un destino\\n\\nA través de pruebas y tribulaciones, encontramos nuestro camino\\nA través del amor y la pérdida, enfrentamos cada nuevo día\\nBuscamos respuestas, en las estrellas arriba\\nBuscamos la verdad, y nos preguntamos por qué\\n\\nEn momentos fugaces, de alegría y de dolor\\nVislumbramos la belleza, de la compleja melodía de la vida\\nUn baile de dualidad, de luz y de oscuridad\\nUna sinfonía de emociones, que configura nuestro camino\\n\\nQuizás el significado, no está en el final\\nSino en el viaje, que emprendemos como amigos\\nEl amor que compartimos, la risa que traemos\\nLos recuerdos que forjamos, mientras nuestros corazones siguen cantando\\n\\nQuizás está en los momentos, en que nos detenemos y reflexionamos\\nEncontramos el significado, en la belleza que inspeccionamos\\nEn la quietud, de una brisa estival\\nDescubrimos la verdad, que nos libera a nuestras almas\\n\\nAl final, no se trata de los años que vivimos\\nSino del amor que damos, y del amor que damos\\nPorque en el dar, encontramos nuestro propio camino\\nAl significado de la vida, en un día nuevo y brillante.', 'txt_filename': './poem.txt'}, 'id': 0}\n",
      "Data successfully written to ./poem.txt\n",
      "\u001b[32m\n",
      "Tool result: \n",
      "None\n",
      "\u001b[34m\n",
      "Observations: {0: None}\n",
      "\u001b[31mThe poem has been written to './poem.txt' file\n"
     ]
    }
   ],
   "source": [
    "crew.run()"
   ]
  }
 ],
 "metadata": {
  "kernelspec": {
   "display_name": "cook",
   "language": "python",
   "name": "python3"
  },
  "language_info": {
   "codemirror_mode": {
    "name": "ipython",
    "version": 3
   },
   "file_extension": ".py",
   "mimetype": "text/x-python",
   "name": "python",
   "nbconvert_exporter": "python",
   "pygments_lexer": "ipython3",
   "version": "3.11.0"
  }
 },
 "nbformat": 4,
 "nbformat_minor": 2
}
