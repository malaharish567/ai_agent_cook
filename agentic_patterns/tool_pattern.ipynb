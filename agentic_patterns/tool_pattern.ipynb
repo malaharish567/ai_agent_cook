{
 "cells": [
  {
   "cell_type": "code",
   "execution_count": 9,
   "metadata": {},
   "outputs": [],
   "source": [
    "import os\n",
    "import re\n",
    "import json\n",
    "from groq import Groq\n",
    "from dotenv import load_dotenv\n",
    "\n",
    "load_dotenv()\n",
    "\n",
    "\n",
    "MODEL =\"llama3-70b-8192\"\n",
    "GROQ_CLIENT = Groq()\n",
    "#\"llama3-groq-70b-8192-tool-use-preview"
   ]
  },
  {
   "cell_type": "code",
   "execution_count": 13,
   "metadata": {},
   "outputs": [
    {
     "data": {
      "text/plain": [
       "'{\"temperature\": 25, \"unit\": \"celsius\"}'"
      ]
     },
     "execution_count": 13,
     "metadata": {},
     "output_type": "execute_result"
    }
   ],
   "source": [
    "def get_current_weather(location: str, unit: str):\n",
    "\t\"\"\"\n",
    "\tGet the current weather in a given location\n",
    "\n",
    "\tlocation (str): The city and state, e.g. Madrid, Barcelona\n",
    "\tunit (str): The unit. It can take two values; \"celsius\", \"fahrenheit\"\n",
    "\t\"\"\"\n",
    "\tif location == \"Madrid\":\n",
    "\t\treturn json.dumps({\"temperature\": 25, \"unit\": unit})\n",
    "\n",
    "\telse:\n",
    "\t\treturn json.dumps({\"temperature\": 58, \"unit\": unit})\n",
    "        \n",
    "get_current_weather(location=\"Madrid\", unit=\"celsius\")        "
   ]
  },
  {
   "cell_type": "code",
   "execution_count": 5,
   "metadata": {},
   "outputs": [],
   "source": [
    "#system prompt\n",
    "TOOL_SYSTEM_PROMPT = \"\"\" \n",
    "You are a function calling AI model. You are provided with function signatures within <tools></tools> XML tags. \n",
    "You may call one or more functions to assist with the user query. Don't make assumptions about what values to plug \n",
    "into functions. Pay special attention to the properties 'types'. You should use those types as in a Python dict.\n",
    "For each function call return a json object with function name and arguments within <tool_call></tool_call> XML tags as follows:\n",
    "\n",
    "<tool_call>\n",
    "{\"name\": <function-name>,\"arguments\": <args-dict>}\n",
    "</tool_call>\n",
    "\n",
    "Here are the available tools:\n",
    "\n",
    "<tools> {\n",
    "    \"name\": \"get_current_weather\",\n",
    "    \"description\": \"Get the current weather in a given location location (str): The city and state, e.g. Madrid, Barcelona unit (str): The unit. It can take two values; 'celsius', 'fahrenheit'\",\n",
    "    \"parameters\": {\n",
    "        \"properties\": {\n",
    "            \"location\": {\n",
    "                \"type\": \"str\"\n",
    "            },\n",
    "            \"unit\": {\n",
    "                \"type\": \"str\"\n",
    "            }\n",
    "        }\n",
    "    }\n",
    "}\n",
    "</tools>\"\"\""
   ]
  },
  {
   "cell_type": "code",
   "execution_count": 6,
   "metadata": {},
   "outputs": [
    {
     "name": "stdout",
     "output_type": "stream",
     "text": [
      "<tool_call>\n",
      "{\"name\": \"get_current_weather\",\"arguments\": {\"location\": \"Madrid\", \"unit\": \"celsius\"}}\n",
      "</tool_call>\n"
     ]
    }
   ],
   "source": [
    "tool_chat_history = [\n",
    "    {\n",
    "        \"role\": \"system\",\n",
    "        \"content\": TOOL_SYSTEM_PROMPT\n",
    "    }\n",
    "]\n",
    "agent_chat_history = []\n",
    "\n",
    "user_msg = {\n",
    "    \"role\": \"user\",\n",
    "    \"content\": \"What's the current temperature in Madrid, in Celsius?\"\n",
    "}\n",
    "\n",
    "tool_chat_history.append(user_msg)\n",
    "agent_chat_history.append(user_msg)\n",
    "\n",
    "output = GROQ_CLIENT.chat.completions.create(\n",
    "    messages=tool_chat_history,\n",
    "    model=MODEL\n",
    ").choices[0].message.content\n",
    "\n",
    "print(output)"
   ]
  },
  {
   "cell_type": "code",
   "execution_count": 10,
   "metadata": {},
   "outputs": [],
   "source": [
    "def parse_tool_call_str(tool_call_str: str):\n",
    "    pattern = r'</?tool_call>'\n",
    "    clean_tags = re.sub(pattern, '', tool_call_str)\n",
    "    \n",
    "    try:\n",
    "        tool_call_json = json.loads(clean_tags)\n",
    "        return tool_call_json\n",
    "    except json.JSONDecodeError:\n",
    "        return clean_tags\n",
    "    except Exception as e:\n",
    "        print(f\"Unexpected error: {e}\")\n",
    "        return \"There was some error parsing the Tool's output\""
   ]
  },
  {
   "cell_type": "code",
   "execution_count": 11,
   "metadata": {},
   "outputs": [
    {
     "data": {
      "text/plain": [
       "{'name': 'get_current_weather',\n",
       " 'arguments': {'location': 'Madrid', 'unit': 'celsius'}}"
      ]
     },
     "execution_count": 11,
     "metadata": {},
     "output_type": "execute_result"
    }
   ],
   "source": [
    "parsed_output = parse_tool_call_str(output)\n",
    "parsed_output"
   ]
  },
  {
   "cell_type": "code",
   "execution_count": 14,
   "metadata": {},
   "outputs": [
    {
     "data": {
      "text/plain": [
       "'{\"temperature\": 25, \"unit\": \"celsius\"}'"
      ]
     },
     "execution_count": 14,
     "metadata": {},
     "output_type": "execute_result"
    }
   ],
   "source": [
    "result = get_current_weather(**parsed_output[\"arguments\"])\n",
    "result"
   ]
  },
  {
   "cell_type": "code",
   "execution_count": 15,
   "metadata": {},
   "outputs": [],
   "source": [
    "agent_chat_history.append({\n",
    "    \"role\": \"user\",\n",
    "    \"content\": f\"Observation: {result}\"\n",
    "})"
   ]
  },
  {
   "cell_type": "code",
   "execution_count": 16,
   "metadata": {},
   "outputs": [
    {
     "data": {
      "text/plain": [
       "'The current temperature in Madrid is 25°C.'"
      ]
     },
     "execution_count": 16,
     "metadata": {},
     "output_type": "execute_result"
    }
   ],
   "source": [
    "GROQ_CLIENT.chat.completions.create(\n",
    "    messages=agent_chat_history,\n",
    "    model=MODEL\n",
    ").choices[0].message.content"
   ]
  },
  {
   "cell_type": "markdown",
   "metadata": {},
   "source": [
    "Tool Decorator"
   ]
  },
  {
   "cell_type": "code",
   "execution_count": 50,
   "metadata": {},
   "outputs": [],
   "source": [
    "import json\n",
    "import requests\n",
    "from agentic_patterns.tool_pattern.tool import tool\n",
    "from agentic_patterns.tool_pattern.tool_agent import ToolAgent\n",
    "\n",
    "def fetch_top_hacker_news_stories(top_n: int):\n",
    "    \"\"\"\n",
    "    Fetch the top stories from Hacker News.\n",
    "\n",
    "    This function retrieves the top `top_n` stories from Hacker News using the Hacker News API. \n",
    "    Each story contains the title, URL, score, author, and time of submission. The data is fetched \n",
    "    from the official Firebase Hacker News API, which returns story details in JSON format.\n",
    "\n",
    "    Args:\n",
    "        top_n (int): The number of top stories to retrieve.\n",
    "    \"\"\"\n",
    "    top_stories_url = 'https://hacker-news.firebaseio.com/v0/topstories.json'\n",
    "    \n",
    "    try:\n",
    "        response = requests.get(top_stories_url)\n",
    "        response.raise_for_status()  # Check for HTTP errors\n",
    "        \n",
    "        # Get the top story IDs\n",
    "        top_story_ids = response.json()[:top_n]\n",
    "        \n",
    "        top_stories = []\n",
    "        \n",
    "        # For each story ID, fetch the story details\n",
    "        for story_id in top_story_ids:\n",
    "            story_url = f'https://hacker-news.firebaseio.com/v0/item/{story_id}.json'\n",
    "            story_response = requests.get(story_url)\n",
    "            story_response.raise_for_status()  # Check for HTTP errors\n",
    "            story_data = story_response.json()\n",
    "            \n",
    "            # Append the story title and URL (or other relevant info) to the list\n",
    "            top_stories.append({\n",
    "                'title': story_data.get('title', 'No title'),\n",
    "                'url': story_data.get('url', 'No URL available'),\n",
    "            })\n",
    "        \n",
    "        return json.dumps(top_stories)\n",
    "\n",
    "    except requests.exceptions.RequestException as e:\n",
    "        print(f\"An error occurred: {e}\")\n",
    "        return []"
   ]
  },
  {
   "cell_type": "code",
   "execution_count": 51,
   "metadata": {},
   "outputs": [
    {
     "data": {
      "text/plain": [
       "[{'title': 'ESP32 Undocumented Bluetooth Commands: Clearing the Air',\n",
       "  'url': 'https://developer.espressif.com/blog/2025/03/esp32-bluetooth-clearing-the-air/'},\n",
       " {'title': 'A Supersolid Made Using Photons',\n",
       "  'url': 'https://www.photonicsonline.com/doc/a-super-solid-made-using-pho-tons-0001'},\n",
       " {'title': 'Show HN: Seven39, a social media app that is only open for 3 hours every evening',\n",
       "  'url': 'https://www.seven39.com'},\n",
       " {'title': 'Bending Spacetime in the Basement (1997)',\n",
       "  'url': 'https://www.fourmilab.ch/gravitation/foobar/'},\n",
       " {'title': 'Software-Defined Radio for Engineers (2018) [pdf]',\n",
       "  'url': 'https://www.analog.com/media/en/training-seminars/design-handbooks/Software-Defined-Radio-for-Engineers-2018/SDR4Engineers.pdf'}]"
      ]
     },
     "execution_count": 51,
     "metadata": {},
     "output_type": "execute_result"
    }
   ],
   "source": [
    "json.loads(fetch_top_hacker_news_stories(top_n=5))"
   ]
  },
  {
   "cell_type": "code",
   "execution_count": 52,
   "metadata": {},
   "outputs": [],
   "source": [
    "hn_tool = tool(fetch_top_hacker_news_stories)"
   ]
  },
  {
   "cell_type": "code",
   "execution_count": 53,
   "metadata": {},
   "outputs": [
    {
     "data": {
      "text/plain": [
       "'fetch_top_hacker_news_stories'"
      ]
     },
     "execution_count": 53,
     "metadata": {},
     "output_type": "execute_result"
    }
   ],
   "source": [
    "hn_tool.name"
   ]
  },
  {
   "cell_type": "code",
   "execution_count": 54,
   "metadata": {},
   "outputs": [
    {
     "data": {
      "text/plain": [
       "{'name': 'fetch_top_hacker_news_stories',\n",
       " 'description': '\\n    Fetch the top stories from Hacker News.\\n\\n    This function retrieves the top `top_n` stories from Hacker News using the Hacker News API. \\n    Each story contains the title, URL, score, author, and time of submission. The data is fetched \\n    from the official Firebase Hacker News API, which returns story details in JSON format.\\n\\n    Args:\\n        top_n (int): The number of top stories to retrieve.\\n    ',\n",
       " 'parameters': {'properties': {'top_n': {'type': 'int'}}}}"
      ]
     },
     "execution_count": 54,
     "metadata": {},
     "output_type": "execute_result"
    }
   ],
   "source": [
    "json.loads(hn_tool.fn_signature)"
   ]
  },
  {
   "cell_type": "markdown",
   "metadata": {},
   "source": [
    "TOOL Agent"
   ]
  },
  {
   "cell_type": "code",
   "execution_count": 55,
   "metadata": {},
   "outputs": [],
   "source": [
    "tool_agent = ToolAgent(tools=[hn_tool],model=\"llama3-70b-8192\")"
   ]
  },
  {
   "cell_type": "code",
   "execution_count": 57,
   "metadata": {},
   "outputs": [
    {
     "name": "stdout",
     "output_type": "stream",
     "text": [
      "\u001b[32m\n",
      "Using Tool: fetch_top_hacker_news_stories\n",
      "\u001b[32m\n",
      "Tool call dict: \n",
      "{'name': 'fetch_top_hacker_news_stories', 'arguments': {'top_n': 5}, 'id': 1}\n",
      "\u001b[32m\n",
      "Tool result: \n",
      "[{\"title\": \"ESP32 Undocumented Bluetooth Commands: Clearing the Air\", \"url\": \"https://developer.espressif.com/blog/2025/03/esp32-bluetooth-clearing-the-air/\"}, {\"title\": \"A Supersolid Made Using Photons\", \"url\": \"https://www.photonicsonline.com/doc/a-super-solid-made-using-pho-tons-0001\"}, {\"title\": \"Show HN: Seven39, a social media app that is only open for 3 hours every evening\", \"url\": \"https://www.seven39.com\"}, {\"title\": \"Bending Spacetime in the Basement (1997)\", \"url\": \"https://www.fourmilab.ch/gravitation/foobar/\"}, {\"title\": \"Software-Defined Radio for Engineers (2018) [pdf]\", \"url\": \"https://www.analog.com/media/en/training-seminars/design-handbooks/Software-Defined-Radio-for-Engineers-2018/SDR4Engineers.pdf\"}]\n",
      "Here are the top 5 Hacker News stories right now:\n",
      "\n",
      "1. **ESP32 Undocumented Bluetooth Commands: Clearing the Air** - https://developer.espressif.com/blog/2025/03/esp32-bluetooth-clearing-the-air/\n",
      "2. **A Supersolid Made Using Photons** - https://www.photonicsonline.com/doc/a-super-solid-made-using-pho-tons-0001\n",
      "3. **Show HN: Seven39, a social media app that is only open for 3 hours every evening** - https://www.seven39.com\n",
      "4. **Bending Spacetime in the Basement (1997)** - https://www.fourmilab.ch/gravitation/foobar/\n",
      "5. **Software-Defined Radio for Engineers (2018) [pdf]** - https://www.analog.com/media/en/training-seminars/design-handbooks/Software-Defined-Radio-for-Engineers-2018/SDR4Engineers.pdf\n"
     ]
    }
   ],
   "source": [
    "output = tool_agent.run(user_msg=\"Tell me the top 5 Hacker News stories right now\")\n",
    "print(output)"
   ]
  }
 ],
 "metadata": {
  "kernelspec": {
   "display_name": "cook",
   "language": "python",
   "name": "python3"
  },
  "language_info": {
   "codemirror_mode": {
    "name": "ipython",
    "version": 3
   },
   "file_extension": ".py",
   "mimetype": "text/x-python",
   "name": "python",
   "nbconvert_exporter": "python",
   "pygments_lexer": "ipython3",
   "version": "3.11.0"
  }
 },
 "nbformat": 4,
 "nbformat_minor": 2
}
